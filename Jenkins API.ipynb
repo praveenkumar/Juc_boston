{
 "metadata": {
  "name": "Jenkins API"
 },
 "nbformat": 3,
 "nbformat_minor": 0,
 "worksheets": [
  {
   "cells": [
    {
     "cell_type": "heading",
     "level": 3,
     "metadata": {},
     "source": [
      "Start with Jenkin's API"
     ]
    },
    {
     "cell_type": "code",
     "collapsed": false,
     "input": [
      "import jenkinsapi\n",
      "from jenkinsapi.jenkins import Jenkins"
     ],
     "language": "python",
     "metadata": {},
     "outputs": [],
     "prompt_number": 1
    },
    {
     "cell_type": "code",
     "collapsed": false,
     "input": [
      "J = Jenkins('http://localhost:8080')"
     ],
     "language": "python",
     "metadata": {},
     "outputs": [],
     "prompt_number": 2
    },
    {
     "cell_type": "code",
     "collapsed": false,
     "input": [
      "J.version"
     ],
     "language": "python",
     "metadata": {},
     "outputs": [
      {
       "output_type": "pyout",
       "prompt_number": 11,
       "text": [
        "'1.549'"
       ]
      }
     ],
     "prompt_number": 11
    },
    {
     "cell_type": "code",
     "collapsed": false,
     "input": [
      "try:\n",
      "    file_handle = open('job_config.xml', 'r')\n",
      "except IOError as err:\n",
      "    print \"Not able to open job_config.xml\\n %s\" % err"
     ],
     "language": "python",
     "metadata": {},
     "outputs": [],
     "prompt_number": 9
    },
    {
     "cell_type": "code",
     "collapsed": false,
     "input": [
      "job_config = file_handle.read()\n",
      "file_handle.close()"
     ],
     "language": "python",
     "metadata": {},
     "outputs": [],
     "prompt_number": 5
    },
    {
     "cell_type": "code",
     "collapsed": false,
     "input": [
      "new_job = J.create_job('test_job', job_config)"
     ],
     "language": "python",
     "metadata": {},
     "outputs": [],
     "prompt_number": 7
    },
    {
     "cell_type": "code",
     "collapsed": false,
     "input": [
      "help(new_job)"
     ],
     "language": "python",
     "metadata": {},
     "outputs": [
      {
       "output_type": "stream",
       "stream": "stdout",
       "text": [
        "Help on Job in module jenkinsapi.job object:\n",
        "\n",
        "class Job(jenkinsapi.jenkinsbase.JenkinsBase, jenkinsapi.mutable_jenkins_thing.MutableJenkinsThing)\n",
        " |  Represents a jenkins job\n",
        " |  A job can hold N builds which are the actual execution environments\n",
        " |  \n",
        " |  Method resolution order:\n",
        " |      Job\n",
        " |      jenkinsapi.jenkinsbase.JenkinsBase\n",
        " |      jenkinsapi.mutable_jenkins_thing.MutableJenkinsThing\n",
        " |      __builtin__.object\n",
        " |  \n",
        " |  Methods defined here:\n",
        " |  \n",
        " |  __getitem__(self, buildnumber)\n",
        " |  \n",
        " |  __init__(self, url, name, jenkins_obj)\n",
        " |  \n",
        " |  __len__(self)\n",
        " |  \n",
        " |  __str__(self)\n",
        " |  \n",
        " |  delete_from_queue(self)\n",
        " |      Delete a job from the queue only if it's enqueued\n",
        " |      :raise NotInQueue if the job is not in the queue\n",
        " |  \n",
        " |  disable(self)\n",
        " |      Disable job\n",
        " |  \n",
        " |  enable(self)\n",
        " |      Enable job\n",
        " |  \n",
        " |  get_build(self, buildnumber)\n",
        " |  \n",
        " |  get_build_dict(self)\n",
        " |  \n",
        " |  get_build_ids(self)\n",
        " |      Return a sorted list of all good builds as ints.\n",
        " |  \n",
        " |  get_build_triggerurl(self)\n",
        " |  \n",
        " |  get_buildnumber_for_revision(self, revision, refresh=False)\n",
        " |      :param revision: subversion revision to look for, int\n",
        " |      :param refresh: boolean, whether or not to refresh the revision -> buildnumber map\n",
        " |      :return: list of buildnumbers, [int]\n",
        " |  \n",
        " |  get_config(self)\n",
        " |      Returns the config.xml from the job\n",
        " |  \n",
        " |  get_config_xml_url(self)\n",
        " |  \n",
        " |  get_description(self)\n",
        " |  \n",
        " |  get_downstream_job_names(self)\n",
        " |      Get all the possible downstream job names\n",
        " |      :return List of String\n",
        " |  \n",
        " |  get_downstream_jobs(self)\n",
        " |      Get all the possible downstream jobs\n",
        " |      :return List of Job\n",
        " |  \n",
        " |  get_first_build(self)\n",
        " |  \n",
        " |  get_first_buildnumber(self)\n",
        " |      Get the numerical ID of the first build.\n",
        " |  \n",
        " |  get_jenkins_obj(self)\n",
        " |  \n",
        " |  get_last_build(self)\n",
        " |      Get the last build\n",
        " |  \n",
        " |  get_last_build_or_none(self)\n",
        " |      Get the last build or None if there is no builds\n",
        " |  \n",
        " |  get_last_buildnumber(self)\n",
        " |      Get the numerical ID of the last build.\n",
        " |  \n",
        " |  get_last_completed_build(self)\n",
        " |      Get the last build regardless of status\n",
        " |  \n",
        " |  get_last_completed_buildnumber(self)\n",
        " |      Get the numerical ID of the last complete build.\n",
        " |  \n",
        " |  get_last_failed_buildnumber(self)\n",
        " |      Get the numerical ID of the last good build.\n",
        " |  \n",
        " |  get_last_good_build(self)\n",
        " |      Get the last good build\n",
        " |  \n",
        " |  get_last_good_buildnumber(self)\n",
        " |      Get the numerical ID of the last good build.\n",
        " |  \n",
        " |  get_last_stable_build(self)\n",
        " |      Get the last stable build\n",
        " |  \n",
        " |  get_last_stable_buildnumber(self)\n",
        " |      Get the numerical ID of the last stable build.\n",
        " |  \n",
        " |  get_next_build_number(self)\n",
        " |      Return the next build number that Jenkins will assign.\n",
        " |  \n",
        " |  get_params(self)\n",
        " |      Get the parameters for this job. Format varies by parameter type. Here\n",
        " |      is an example string parameter:\n",
        " |          {\n",
        " |              'type': 'StringParameterDefinition',\n",
        " |              'description': 'Parameter description',\n",
        " |              'defaultParameterValue': {'value': 'default value'},\n",
        " |              'name': 'FOO_BAR'\n",
        " |          }\n",
        " |  \n",
        " |  get_params_list(self)\n",
        " |      Gets the list of parameter names for this job.\n",
        " |  \n",
        " |  get_queue_item(self)\n",
        " |      Return a QueueItem if this object is in a queue, otherwise raise an exception\n",
        " |  \n",
        " |  get_revision_dict(self)\n",
        " |      Get dictionary of all revisions with a list of buildnumbers (int) that used that particular revision\n",
        " |  \n",
        " |  get_scm_branch(self)\n",
        " |      Get list of SCM branches\n",
        " |      : return: list of SCM branches\n",
        " |  \n",
        " |  get_scm_type(self)\n",
        " |  \n",
        " |  get_scm_url(self)\n",
        " |      Get list of project SCM urls\n",
        " |      For some SCM's jenkins allow to configure and use number of SCM url's\n",
        " |      : return: list of SCM urls\n",
        " |  \n",
        " |  get_upstream_job_names(self)\n",
        " |      Get all the possible upstream job names\n",
        " |      :return List of String\n",
        " |  \n",
        " |  get_upstream_jobs(self)\n",
        " |      Get all the possible upstream jobs\n",
        " |      :return List of Job\n",
        " |  \n",
        " |  has_queued_build(self, build_params)\n",
        " |      Returns True if a build with build_params is currently queued.\n",
        " |  \n",
        " |  invoke(self, securitytoken=None, block=False, skip_if_running=False, invoke_pre_check_delay=3, invoke_block_delay=15, build_params=None, cause=None, files=None)\n",
        " |  \n",
        " |  is_enabled(self)\n",
        " |  \n",
        " |  is_queued(self)\n",
        " |  \n",
        " |  is_queued_or_running(self)\n",
        " |  \n",
        " |  is_running(self)\n",
        " |  \n",
        " |  load_config(self)\n",
        " |  \n",
        " |  modify_scm_branch(self, new_branch, old_branch=None)\n",
        " |      Modify SCM (\"Source Code Management\") branch name for configured job.\n",
        " |      :param new_branch : new repository branch name to set.\n",
        " |                          If job has multiple branches configured and \"old_branch\"\n",
        " |                          not provided - method will allways modify first url.\n",
        " |      :param old_branch (optional): exact value of branch name to be replaced.\n",
        " |                          For some SCM's jenkins allow set multiple branches per job\n",
        " |                          this parameter intended to indicate which branch need to be modified\n",
        " |  \n",
        " |  modify_scm_url(self, new_source_url, old_source_url=None)\n",
        " |      Modify SCM (\"Source Code Management\") url for configured job.\n",
        " |      :param new_source_url : new repository url to set.\n",
        " |                              If job has multiple repositories configured and \"old_source_url\"\n",
        " |                              not provided - method will allways modify first url.\n",
        " |      :param old_source_url (optional): for some SCM's jenkins allow set multiple repositories per job\n",
        " |                              this parameter intended to indicate which repository need to be modified\n",
        " |  \n",
        " |  update_config(self, config)\n",
        " |      Update the config.xml to the job\n",
        " |      Also refresh the ElementTree object since the config has changed\n",
        " |  \n",
        " |  ----------------------------------------------------------------------\n",
        " |  Static methods defined here:\n",
        " |  \n",
        " |  mk_json_from_build_parameters(build_params)\n",
        " |  \n",
        " |  ----------------------------------------------------------------------\n",
        " |  Methods inherited from jenkinsapi.jenkinsbase.JenkinsBase:\n",
        " |  \n",
        " |  __eq__(self, other)\n",
        " |      Return true if the other object represents a connection to the same server\n",
        " |  \n",
        " |  __repr__(self)\n",
        " |  \n",
        " |  get_data(self, url, params=None)\n",
        " |  \n",
        " |  poll(self)\n",
        " |  \n",
        " |  process_job_folder(self, folder)\n",
        " |  \n",
        " |  resolve_job_folders(self, jobs)\n",
        " |  \n",
        " |  ----------------------------------------------------------------------\n",
        " |  Class methods inherited from jenkinsapi.jenkinsbase.JenkinsBase:\n",
        " |  \n",
        " |  python_api_url(cls, url) from __builtin__.type\n",
        " |  \n",
        " |  strip_trailing_slash(cls, url) from __builtin__.type\n",
        " |  \n",
        " |  ----------------------------------------------------------------------\n",
        " |  Data descriptors inherited from jenkinsapi.jenkinsbase.JenkinsBase:\n",
        " |  \n",
        " |  __dict__\n",
        " |      dictionary for instance variables (if defined)\n",
        " |  \n",
        " |  __weakref__\n",
        " |      list of weak references to the object (if defined)\n",
        " |  \n",
        " |  ----------------------------------------------------------------------\n",
        " |  Data and other attributes inherited from jenkinsapi.jenkinsbase.JenkinsBase:\n",
        " |  \n",
        " |  RETRY_ATTEMPTS = 1\n",
        " |  \n",
        " |  ----------------------------------------------------------------------\n",
        " |  Methods inherited from jenkinsapi.mutable_jenkins_thing.MutableJenkinsThing:\n",
        " |  \n",
        " |  get_delete_url(self)\n",
        " |  \n",
        " |  get_rename_url(self)\n",
        "\n"
       ]
      }
     ],
     "prompt_number": 8
    },
    {
     "cell_type": "code",
     "collapsed": false,
     "input": [
      "try:\n",
      "    file_handle = open('job_config.xml', 'r')\n",
      "except IOError as err:\n",
      "    print \"Not able to open job_config.xml\\n %s\" % err\n",
      "\n",
      "update_job_config = file_handle.read()\n",
      "file_handle.close()"
     ],
     "language": "python",
     "metadata": {},
     "outputs": [],
     "prompt_number": 21
    },
    {
     "cell_type": "code",
     "collapsed": false,
     "input": [
      "return_value = new_job.update_config(update_job_config)\n",
      "print return_value"
     ],
     "language": "python",
     "metadata": {},
     "outputs": [
      {
       "output_type": "stream",
       "stream": "stdout",
       "text": [
        "\n"
       ]
      }
     ],
     "prompt_number": 22
    },
    {
     "cell_type": "code",
     "collapsed": false,
     "input": [
      "data_file = open('project.cfg', 'r')"
     ],
     "language": "python",
     "metadata": {},
     "outputs": [],
     "prompt_number": 35
    },
    {
     "cell_type": "code",
     "collapsed": false,
     "input": [
      "running_job_object = new_job.invoke(block=True, build_params={'whoami': 'Praveen Kumar', 'whatido': 'Developer'}, files={'project.cfg': data_file})\n",
      "data_file.close()"
     ],
     "language": "python",
     "metadata": {},
     "outputs": [],
     "prompt_number": 36
    },
    {
     "cell_type": "code",
     "collapsed": false,
     "input": [
      "help(running_job_object)"
     ],
     "language": "python",
     "metadata": {},
     "outputs": [
      {
       "output_type": "stream",
       "stream": "stdout",
       "text": [
        "Help on Invocation in module jenkinsapi.invocation object:\n",
        "\n",
        "class Invocation(__builtin__.object)\n",
        " |  Represents the state and consequences of a single attempt to start a job.\n",
        " |  This class provides a context manager which is intended to watch the state of the job\n",
        " |  before and after the invoke. It will detect whether a process got queued, launched\n",
        " |  or whether nothing at all happened.\n",
        " |  \n",
        " |  An instance of this object will be returned by job.invoke()\n",
        " |  \n",
        " |  Methods defined here:\n",
        " |  \n",
        " |  __enter__(self)\n",
        " |      Start watching the job\n",
        " |  \n",
        " |  __exit__(self, type_, value, traceback)\n",
        " |      Finish watching the job - it will track which new queue items or builds have\n",
        " |      been created as a consequence of invoking the job.\n",
        " |  \n",
        " |  __init__(self, job)\n",
        " |  \n",
        " |  block(self, until='completed', timeout=200, delay=2)\n",
        " |      Block this item until a condition is met.\n",
        " |      Setting until to 'running' blocks the item until it is running (i.e. it's no longer queued)\n",
        " |  \n",
        " |  block_until_completed(self, timeout, delay)\n",
        " |  \n",
        " |  block_until_not_queued(self, timeout, delay)\n",
        " |  \n",
        " |  get_build(self)\n",
        " |  \n",
        " |  get_build_number(self)\n",
        " |      If this job is building or complete then provide it's build-number\n",
        " |  \n",
        " |  get_queue_item(self)\n",
        " |      If the item is queued it will return that QueueItem, otherwise it will\n",
        " |      raise an exception.\n",
        " |  \n",
        " |  is_queued(self)\n",
        " |      Returns True if this item is on the queue\n",
        " |  \n",
        " |  is_queued_or_running(self)\n",
        " |  \n",
        " |  is_running(self)\n",
        " |      Returns True if this item is executing now\n",
        " |      Returns False if this item has completed\n",
        " |      or has not yet executed.\n",
        " |  \n",
        " |  stop(self)\n",
        " |      Stop this item, whether it is on the queue or blocked.\n",
        " |  \n",
        " |  ----------------------------------------------------------------------\n",
        " |  Data descriptors defined here:\n",
        " |  \n",
        " |  __dict__\n",
        " |      dictionary for instance variables (if defined)\n",
        " |  \n",
        " |  __weakref__\n",
        " |      list of weak references to the object (if defined)\n",
        "\n"
       ]
      }
     ],
     "prompt_number": 20
    },
    {
     "cell_type": "code",
     "collapsed": false,
     "input": [
      "import jenkinsapi\n",
      "from jenkinsapi.jenkins import Jenkins\n",
      "from lxml import etree\n",
      "from cStringIO import StringIO\n",
      "\n",
      "J = Jenkins('http://jenkins.swcert.lab.eng.pnq.redhat.com:8080/')\n",
      "\n",
      "for job in J.get_jobs():\n",
      "    print job\n",
      "    xml_string = job[1].get_config()\n",
      "    xml_file = StringIO(xml_string)\n",
      "    tree = etree.parse(xml_file)\n",
      "    root = tree.getroot()\n",
      "    command_shell = root.find('builders').find('hudson.tasks.Shell')\n",
      "    if command_shell is not None:\n",
      "        print command_shell.find('command').text\n",
      "    print tree.docinfo.xml_version"
     ],
     "language": "python",
     "metadata": {},
     "outputs": [
      {
       "output_type": "stream",
       "stream": "stdout",
       "text": [
        "('Abby', <jenkinsapi.job.Job Abby>)\n",
        "git clone git://git.engineering.redhat.com/users/prkumar/brew_automation.git\n",
        "rm -rf ~/rpmbuild/SRPMS/abby-*\n",
        "pushd server; python test.py; python lib.py; popd\n",
        "python setup.py sdist\n",
        "cp dist/* ~/rpmbuild/SOURCES/\n",
        "rpmbuild -bs abby.spec\n",
        "python brew_automation/brew_automation.py eso-rhel-6 ~/rpmbuild/SRPMS/abby-*.src.rpm\n",
        "#pylint -f parseable client/ server/ | tee pylint.out\n",
        "#pep8 . | cut -c 3- > pep8.out\n",
        "\n"
       ]
      },
      {
       "output_type": "stream",
       "stream": "stdout",
       "text": [
        "\n",
        "1.0\n",
        "('ABIDiffWeb', <jenkinsapi.job.Job ABIDiffWeb>)"
       ]
      },
      {
       "output_type": "stream",
       "stream": "stdout",
       "text": [
        "\n",
        "python -c ''"
       ]
      },
      {
       "output_type": "stream",
       "stream": "stdout",
       "text": [
        "\n",
        "1.0\n",
        "('ccp-client', <jenkinsapi.job.Job ccp-client>)"
       ]
      },
      {
       "output_type": "stream",
       "stream": "stdout",
       "text": [
        "\n",
        "git clone git://git.engineering.redhat.com/users/prkumar/brew_automation.git\n",
        "rm -rf ~/rpmbuild/SRPMS/ccp-client-*\n",
        "python setup.py sdist\n",
        "cp dist/* ~/rpmbuild/SOURCES/\n",
        "rpmbuild -bs ccp-client.spec\n",
        "python brew_automation/brew_automation.py eso-rhel-6 ~/rpmbuild/SRPMS/ccp-client-*.src.rpm --principal sgupta@REDHAT.COM\n",
        "#pylint -f parseable ccp_tests/ | tee pylint.out\n",
        "#pep8 . | cut -c 3- > pep8.out\n",
        "\n"
       ]
      },
      {
       "output_type": "stream",
       "stream": "stdout",
       "text": [
        "\n",
        "1.0\n",
        "('cinder_test', <jenkinsapi.job.Job cinder_test>)"
       ]
      },
      {
       "output_type": "stream",
       "stream": "stdout",
       "text": [
        "\n",
        "python rhoscts --certify-storage\n",
        "pylint -f parseable ctsstorage/ | tee pylint.out\n",
        "pep8 . | cut -c 3- > pep8.out"
       ]
      },
      {
       "output_type": "stream",
       "stream": "stdout",
       "text": [
        "\n",
        "1.0\n",
        "('config_scripts', <jenkinsapi.job.Job config_scripts>)"
       ]
      },
      {
       "output_type": "stream",
       "stream": "stdout",
       "text": [
        "\n",
        "None"
       ]
      },
      {
       "output_type": "stream",
       "stream": "stdout",
       "text": [
        "\n",
        "1.0\n",
        "('ContainerCerification', <jenkinsapi.job.Job ContainerCerification>)"
       ]
      },
      {
       "output_type": "stream",
       "stream": "stdout",
       "text": [
        "\n",
        "python -c ''"
       ]
      },
      {
       "output_type": "stream",
       "stream": "stdout",
       "text": [
        "\n",
        "1.0\n",
        "('DataAnalytics', <jenkinsapi.job.Job DataAnalytics>)"
       ]
      },
      {
       "output_type": "stream",
       "stream": "stdout",
       "text": [
        "\n",
        "cd src/\n",
        "python tests.py\n",
        "cd ../\n",
        "pylint -f parseable src/ | tee pylint.out\n",
        "pep8 . | cut -c 3- > pep8.out\n",
        "cat pep8.out"
       ]
      },
      {
       "output_type": "stream",
       "stream": "stdout",
       "text": [
        "\n",
        "1.0\n",
        "('Deploy', <jenkinsapi.job.Job Deploy>)"
       ]
      },
      {
       "output_type": "stream",
       "stream": "stdout",
       "text": [
        "\n",
        "python jenkins_automation.py"
       ]
      },
      {
       "output_type": "stream",
       "stream": "stdout",
       "text": [
        "\n",
        "1.0\n",
        "('elfabit', <jenkinsapi.job.Job elfabit>)"
       ]
      },
      {
       "output_type": "stream",
       "stream": "stdout",
       "text": [
        "\n",
        "make dist\n",
        "echo `pwd`\n",
        "cp elfabit.spec ~/rpmbuild/SPECS/\n",
        "cp elfabit-0.* ~/rpmbuild/SOURCES/\n",
        "rm -f ~/rpmbuild/SRPMS/elfabit-*\n",
        "#rpmbuild --define \"_source_filedigest_algorithm md5\" --define \"_binary_filedigest_algorithm md5\" -bs ~/rpmbuild/SPECS/elfabit.spec\n",
        "#python $JENKINS_HOME/jobs/config_scripts/workspace/brew_automation.py dist-5E-eso ~/rpmbuild/SRPMS/elfabit-*\n",
        "#rm -f ~/rpmbuild/SRPMS/elfabit-*\n",
        "#rpmbuild -bs ~/rpmbuild/SPECS/elfabit.spec\n",
        "#python $JENKINS_HOME/jobs/config_scripts/workspace/brew_automation.py eso-rhel-6 ~/rpmbuild/SRPMS/elfabit-*\n",
        "#python $JENKINS_HOME/jobs/config_scripts/workspace/brew_automation.py eso-rhel-7-candidate ~/rpmbuild/SRPMS/elfabit-*"
       ]
      },
      {
       "output_type": "stream",
       "stream": "stdout",
       "text": [
        "\n",
        "1.0\n",
        "('Elfabyte', <jenkinsapi.job.Job Elfabyte>)"
       ]
      },
      {
       "output_type": "stream",
       "stream": "stdout",
       "text": [
        "\n",
        "git clone git://git.engineering.redhat.com/users/prkumar/brew_automation.git\n",
        "rm -rf ~/rpmbuild/SRPMS/python-elfabyte-*; python setup.py sdist; cp dist/* ~/rpmbuild/SOURCES/; rpmbuild -bs python-elfabyte.spec\n",
        "python brew_automation/brew_automation.py eso-rhel-6 ~/rpmbuild/SRPMS/python-elfabyte-*.src.rpm"
       ]
      },
      {
       "output_type": "stream",
       "stream": "stdout",
       "text": [
        "\n",
        "1.0\n",
        "('greylists-rails-web', <jenkinsapi.job.Job greylists-rails-web>)"
       ]
      },
      {
       "output_type": "stream",
       "stream": "stdout",
       "text": [
        "\n",
        "sed -i 's/kabi/root/g' config/database.yml\n",
        "rake db:migrate\n",
        "rake db:fixtures:load\n",
        "RAILS_ENV=\"test\" rake db:migrate\n",
        "RAILS_ENV=\"test\" rake db:fixtures:load\n",
        "RAILS_ENV=\"test\" rake db:test:prepare\n",
        "RAILS_ENV=\"test\" rake token:generate\n",
        "RAILS_ENV=\"test\" rspec spec\n",
        "RAILS_ENV=\"test\" rcov --exclude '/usr/*' spec/**/*_spec.rb\n",
        "cucumber features"
       ]
      },
      {
       "output_type": "stream",
       "stream": "stdout",
       "text": [
        "\n",
        "1.0\n",
        "('infoelf', <jenkinsapi.job.Job infoelf>)"
       ]
      },
      {
       "output_type": "stream",
       "stream": "stdout",
       "text": [
        "\n",
        "make dist\n",
        "cp infoelf.spec ~/rpmbuild/SPECS/\n",
        "cp infoelf-* ~/rpmbuild/SOURCES/\n",
        "rm -f ~/rpmbuild/SRPMS/infoelf-*\n",
        "rpmbuild -bs ~/rpmbuild/SPECS/infoelf.spec\n",
        "\n",
        "#python $JENKINS_HOME/jobs/config_scripts/workspace/brew_automation.py eso-rhel-6 ~/rpmbuild/SRPMS/infoelf-*\n",
        "#python $JENKINS_HOME/jobs/config_scripts/workspace/brew_automation.py eso-rhel-7-candidate ~/rpmbuild/SRPMS/infoelf-*"
       ]
      },
      {
       "output_type": "stream",
       "stream": "stdout",
       "text": [
        "\n",
        "1.0\n",
        "('kbc', <jenkinsapi.job.Job kbc>)"
       ]
      },
      {
       "output_type": "stream",
       "stream": "stdout",
       "text": [
        "\n",
        "python uapi-check-test.py"
       ]
      },
      {
       "output_type": "stream",
       "stream": "stdout",
       "text": [
        "\n",
        "1.0\n",
        "('ksc', <jenkinsapi.job.Job ksc>)"
       ]
      },
      {
       "output_type": "stream",
       "stream": "stdout",
       "text": [
        "\n",
        "python setup.py build\n",
        "python tests.py"
       ]
      },
      {
       "output_type": "stream",
       "stream": "stdout",
       "text": [
        "\n",
        "1.0\n",
        "('neutron-cts', <jenkinsapi.job.Job neutron-cts>)"
       ]
      },
      {
       "output_type": "stream",
       "stream": "stdout",
       "text": [
        "\n",
        "python rhoscts.py --certify-network\n",
        "pylint -f parseable ctsnetwork/ | tee pylint.out\n",
        "pep8 . | cut -c 3- > pep8.out"
       ]
      },
      {
       "output_type": "stream",
       "stream": "stdout",
       "text": [
        "\n",
        "1.0\n",
        "('openstack-cts', <jenkinsapi.job.Job openstack-cts>)"
       ]
      },
      {
       "output_type": "stream",
       "stream": "stdout",
       "text": [
        "\n",
        "cp /var/rhos/run_rhoscts.py $WORKSPACE\n",
        "python run_rhoscts.py\n",
        "source /root/keystonerc_admin && swift stat --lh\n",
        "source /root/keystonerc_admin && cinder list && cinder snapshot-list && cinder qos-list && cinder type-list && glance image-list\n",
        "source /root/keystonerc_admin && neutron firewall-list && neutron floatingip-list && neutron net-list && neutron port-list && neutron router-list && neutron subnet-list"
       ]
      },
      {
       "output_type": "stream",
       "stream": "stdout",
       "text": [
        "\n",
        "1.0\n",
        "('openstack-cts_rpmCreator', <jenkinsapi.job.Job openstack-cts_rpmCreator>)"
       ]
      },
      {
       "output_type": "stream",
       "stream": "stdout",
       "text": [
        "\n",
        "git clone git://git.engineering.redhat.com/users/prkumar/brew_automation.git\n",
        "git clone -b develop http://git.app.eng.bos.redhat.com/git/openstack-cts.git\n",
        "rm -rf ~/rpmbuild/SRPMS/openstack-cts-*\n",
        "cp brew_automation/openstack_run.py openstack-cts/\n",
        "cd openstack-cts\n",
        "python openstack_run.py\n",
        "python setup.py sdist\n",
        "cp dist/* ~/rpmbuild/SOURCES/\n",
        "rpmbuild -bs openstack-cts.spec\n",
        "python ../brew_automation/brew_automation.py rhos-5.0-cts-rhel-7-candidate ~/rpmbuild/SRPMS/openstack-cts*.src.rpm"
       ]
      },
      {
       "output_type": "stream",
       "stream": "stdout",
       "text": [
        "\n",
        "1.0\n",
        "('Reporting-App', <jenkinsapi.job.Job Reporting-App>)"
       ]
      },
      {
       "output_type": "stream",
       "stream": "stdout",
       "text": [
        "\n",
        "rm settings.py*\n",
        "rm no_db_settings.*\n",
        "rm browse/tests.py*\n",
        "\n",
        "wget http://people.pnq.redhat.com/~nshaikh/mixed_files/settings.py\n",
        "wget http://people.pnq.redhat.com/~nshaikh/mixed_files/no_db_settings.py\n",
        "wget http://people.pnq.redhat.com/~nshaikh/mixed_files/tests.py\n",
        "mv tests.py browse/\n",
        "\n",
        "python manage.py test browse --settings=no_db_settings"
       ]
      },
      {
       "output_type": "stream",
       "stream": "stdout",
       "text": [
        "\n",
        "1.0\n",
        "('RHOS_Deploy', <jenkinsapi.job.Job RHOS_Deploy>)"
       ]
      },
      {
       "output_type": "stream",
       "stream": "stdout",
       "text": [
        "\n",
        "python jenkins_automation.py"
       ]
      },
      {
       "output_type": "stream",
       "stream": "stdout",
       "text": [
        "\n",
        "1.0\n",
        "('RHOS_VM', <jenkinsapi.job.Job RHOS_VM>)"
       ]
      },
      {
       "output_type": "stream",
       "stream": "stdout",
       "text": [
        "\n",
        "python client.py $vm_name $disk_size $ram $cpu $version $brew_id --hostname=$hostname"
       ]
      },
      {
       "output_type": "stream",
       "stream": "stdout",
       "text": [
        "\n",
        "1.0\n",
        "('rhoscts_logparser', <jenkinsapi.job.Job rhoscts_logparser>)"
       ]
      },
      {
       "output_type": "stream",
       "stream": "stdout",
       "text": [
        "\n",
        "cp /var/rhos/objectstorage.json $WORKSPACE\n",
        "python report_generator.py objectstorage.json -t objectstorage\n",
        "pep8 . | cut -c 3- > pep8.out"
       ]
      },
      {
       "output_type": "stream",
       "stream": "stdout",
       "text": [
        "\n",
        "1.0\n",
        "('SEB', <jenkinsapi.job.Job SEB>)"
       ]
      },
      {
       "output_type": "stream",
       "stream": "stdout",
       "text": [
        "\n",
        "python seb/tests.py"
       ]
      },
      {
       "output_type": "stream",
       "stream": "stdout",
       "text": [
        "\n",
        "1.0\n",
        "('swcert_automation', <jenkinsapi.job.Job swcert_automation>)"
       ]
      },
      {
       "output_type": "stream",
       "stream": "stdout",
       "text": [
        "\n",
        "pep8 . | cut -c 3- > pep8.out"
       ]
      },
      {
       "output_type": "stream",
       "stream": "stdout",
       "text": [
        "\n",
        "1.0\n",
        "('techilla', <jenkinsapi.job.Job techilla>)"
       ]
      },
      {
       "output_type": "stream",
       "stream": "stdout",
       "text": [
        "\n",
        "git clone git://git.engineering.redhat.com/users/prkumar/brew_automation.git\n",
        "rm -rf ~/rpmbuild/SRPMS/ccp-client-*\n",
        "python test.py\n",
        "python setup.py sdist\n",
        "cp dist/* ~/rpmbuild/SOURCES/\n",
        "rpmbuild -bs python-techilla.spec\n",
        "python brew_automation/brew_automation.py eso-rhel-6 ~/rpmbuild/SRPMS/python-techilla-*.src.rpm --principal sgupta@REDHAT.COM\n"
       ]
      },
      {
       "output_type": "stream",
       "stream": "stdout",
       "text": [
        "\n",
        "1.0\n",
        "('test_job', <jenkinsapi.job.Job test_job>)"
       ]
      },
      {
       "output_type": "stream",
       "stream": "stdout",
       "text": [
        "\n",
        "python koji_auto.py"
       ]
      },
      {
       "output_type": "stream",
       "stream": "stdout",
       "text": [
        "\n",
        "1.0\n",
        "('VM_Creation', <jenkinsapi.job.Job VM_Creation>)"
       ]
      },
      {
       "output_type": "stream",
       "stream": "stdout",
       "text": [
        "\n",
        "python client.py $vm_name $disk_size $ram $cpu $version $brew_id --hostname $hostname"
       ]
      },
      {
       "output_type": "stream",
       "stream": "stdout",
       "text": [
        "\n",
        "1.0\n",
        "('wolverine.rb', <jenkinsapi.job.Job wolverine.rb>)"
       ]
      },
      {
       "output_type": "stream",
       "stream": "stdout",
       "text": [
        "\n",
        "bundle install --path ~/bundles/wolverine.rb/gems --binstubs ~/bundles/wolverine.rb/binstubs\n",
        "RCOV_REPORT_FORMAT=true ~/bundles/wolverine.rb/binstubs/rspec --format RspecJunitFormatter --out spec/out.xml wolverine-api/spec wolverine-db/spec wolverine-import/spec"
       ]
      },
      {
       "output_type": "stream",
       "stream": "stdout",
       "text": [
        "\n",
        "1.0\n",
        "('wolverine.rb_git', <jenkinsapi.job.Job wolverine.rb_git>)"
       ]
      },
      {
       "output_type": "stream",
       "stream": "stdout",
       "text": [
        "\n",
        "bundle install --path ~/bundles/wolverine.rb_git/gems --binstubs ~/bundles/wolverine.rb_git/binstubs\n",
        "RCOV_REPORT_FORMAT=true ~/bundles/wolverine.rb_git/binstubs/rspec --format RspecJunitFormatter --out spec/out.xml wolverine-api/spec wolverine-db/spec wolverine-import/spec"
       ]
      },
      {
       "output_type": "stream",
       "stream": "stdout",
       "text": [
        "\n",
        "1.0\n",
        "('wolverine_tree_import', <jenkinsapi.job.Job wolverine_tree_import>)"
       ]
      },
      {
       "output_type": "stream",
       "stream": "stdout",
       "text": [
        "\n",
        "if [ \"$variant\" ]; then\n",
        "    python master_deployment/tree_import.py \"$mount_path\" $product $arch $release --variant $variant\n",
        "else\n",
        "    python master_deployment/tree_import.py \"$mount_path\" $product $arch $release\n",
        "fi"
       ]
      },
      {
       "output_type": "stream",
       "stream": "stdout",
       "text": [
        "\n",
        "1.0\n",
        "('yum-repo', <jenkinsapi.job.Job yum-repo>)"
       ]
      },
      {
       "output_type": "stream",
       "stream": "stdout",
       "text": [
        "\n",
        "python repo_update.py $project_name $build_system $nvr"
       ]
      },
      {
       "output_type": "stream",
       "stream": "stdout",
       "text": [
        "\n",
        "1.0\n"
       ]
      }
     ],
     "prompt_number": 61
    },
    {
     "cell_type": "code",
     "collapsed": false,
     "input": [],
     "language": "python",
     "metadata": {},
     "outputs": []
    }
   ],
   "metadata": {}
  }
 ]
}